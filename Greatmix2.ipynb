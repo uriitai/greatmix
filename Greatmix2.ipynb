{
 "cells": [
  {
   "cell_type": "code",
   "execution_count": 1,
   "id": "4a87b6ba",
   "metadata": {},
   "outputs": [],
   "source": [
    "import pandas as pd\n",
    "import numpy as np\n",
    "import matplotlib.pyplot as plt\n",
    "import seaborn as sns\n",
    "from pathlib import Path\n",
    "from datetime import datetime\n",
    "from pygini import gini"
   ]
  },
  {
   "cell_type": "code",
   "execution_count": 2,
   "id": "b1c27d28",
   "metadata": {},
   "outputs": [],
   "source": [
    "schulde_data = pd.read_csv(r\"C:\\Users\\uriit\\Downloads\\surgeries.csv\")"
   ]
  },
  {
   "cell_type": "code",
   "execution_count": 3,
   "id": "c28d31d9",
   "metadata": {},
   "outputs": [
    {
     "data": {
      "text/html": [
       "<div>\n",
       "<style scoped>\n",
       "    .dataframe tbody tr th:only-of-type {\n",
       "        vertical-align: middle;\n",
       "    }\n",
       "\n",
       "    .dataframe tbody tr th {\n",
       "        vertical-align: top;\n",
       "    }\n",
       "\n",
       "    .dataframe thead th {\n",
       "        text-align: right;\n",
       "    }\n",
       "</style>\n",
       "<table border=\"1\" class=\"dataframe\">\n",
       "  <thead>\n",
       "    <tr style=\"text-align: right;\">\n",
       "      <th></th>\n",
       "      <th>Unnamed: 0</th>\n",
       "      <th>start</th>\n",
       "      <th>end</th>\n",
       "    </tr>\n",
       "  </thead>\n",
       "  <tbody>\n",
       "    <tr>\n",
       "      <th>0</th>\n",
       "      <td>0</td>\n",
       "      <td>2023-04-25 07:00:00</td>\n",
       "      <td>2023-04-25 07:15:00</td>\n",
       "    </tr>\n",
       "    <tr>\n",
       "      <th>1</th>\n",
       "      <td>1</td>\n",
       "      <td>2023-04-25 07:00:00</td>\n",
       "      <td>2023-04-25 07:30:00</td>\n",
       "    </tr>\n",
       "    <tr>\n",
       "      <th>2</th>\n",
       "      <td>2</td>\n",
       "      <td>2023-04-25 07:00:00</td>\n",
       "      <td>2023-04-25 07:30:00</td>\n",
       "    </tr>\n",
       "    <tr>\n",
       "      <th>3</th>\n",
       "      <td>3</td>\n",
       "      <td>2023-04-25 07:00:00</td>\n",
       "      <td>2023-04-25 07:30:00</td>\n",
       "    </tr>\n",
       "    <tr>\n",
       "      <th>4</th>\n",
       "      <td>4</td>\n",
       "      <td>2023-04-25 07:00:00</td>\n",
       "      <td>2023-04-25 07:45:00</td>\n",
       "    </tr>\n",
       "  </tbody>\n",
       "</table>\n",
       "</div>"
      ],
      "text/plain": [
       "   Unnamed: 0                start                  end\n",
       "0           0  2023-04-25 07:00:00  2023-04-25 07:15:00\n",
       "1           1  2023-04-25 07:00:00  2023-04-25 07:30:00\n",
       "2           2  2023-04-25 07:00:00  2023-04-25 07:30:00\n",
       "3           3  2023-04-25 07:00:00  2023-04-25 07:30:00\n",
       "4           4  2023-04-25 07:00:00  2023-04-25 07:45:00"
      ]
     },
     "execution_count": 3,
     "metadata": {},
     "output_type": "execute_result"
    }
   ],
   "source": [
    "schulde_data.head()"
   ]
  },
  {
   "cell_type": "code",
   "execution_count": 4,
   "id": "d8b101a2",
   "metadata": {},
   "outputs": [
    {
     "data": {
      "text/plain": [
       "(114, 3)"
      ]
     },
     "execution_count": 4,
     "metadata": {},
     "output_type": "execute_result"
    }
   ],
   "source": [
    "schulde_data.shape"
   ]
  },
  {
   "cell_type": "code",
   "execution_count": 5,
   "id": "51656906",
   "metadata": {},
   "outputs": [
    {
     "data": {
      "text/html": [
       "<div>\n",
       "<style scoped>\n",
       "    .dataframe tbody tr th:only-of-type {\n",
       "        vertical-align: middle;\n",
       "    }\n",
       "\n",
       "    .dataframe tbody tr th {\n",
       "        vertical-align: top;\n",
       "    }\n",
       "\n",
       "    .dataframe thead th {\n",
       "        text-align: right;\n",
       "    }\n",
       "</style>\n",
       "<table border=\"1\" class=\"dataframe\">\n",
       "  <thead>\n",
       "    <tr style=\"text-align: right;\">\n",
       "      <th></th>\n",
       "      <th>Unnamed: 0</th>\n",
       "    </tr>\n",
       "  </thead>\n",
       "  <tbody>\n",
       "    <tr>\n",
       "      <th>count</th>\n",
       "      <td>114.000000</td>\n",
       "    </tr>\n",
       "    <tr>\n",
       "      <th>mean</th>\n",
       "      <td>56.500000</td>\n",
       "    </tr>\n",
       "    <tr>\n",
       "      <th>std</th>\n",
       "      <td>33.052988</td>\n",
       "    </tr>\n",
       "    <tr>\n",
       "      <th>min</th>\n",
       "      <td>0.000000</td>\n",
       "    </tr>\n",
       "    <tr>\n",
       "      <th>25%</th>\n",
       "      <td>28.250000</td>\n",
       "    </tr>\n",
       "    <tr>\n",
       "      <th>50%</th>\n",
       "      <td>56.500000</td>\n",
       "    </tr>\n",
       "    <tr>\n",
       "      <th>75%</th>\n",
       "      <td>84.750000</td>\n",
       "    </tr>\n",
       "    <tr>\n",
       "      <th>max</th>\n",
       "      <td>113.000000</td>\n",
       "    </tr>\n",
       "  </tbody>\n",
       "</table>\n",
       "</div>"
      ],
      "text/plain": [
       "       Unnamed: 0\n",
       "count  114.000000\n",
       "mean    56.500000\n",
       "std     33.052988\n",
       "min      0.000000\n",
       "25%     28.250000\n",
       "50%     56.500000\n",
       "75%     84.750000\n",
       "max    113.000000"
      ]
     },
     "execution_count": 5,
     "metadata": {},
     "output_type": "execute_result"
    }
   ],
   "source": [
    "schulde_data.describe()"
   ]
  },
  {
   "cell_type": "code",
   "execution_count": 6,
   "id": "6f3907a8",
   "metadata": {
    "scrolled": false
   },
   "outputs": [
    {
     "data": {
      "text/plain": [
       "Unnamed: 0     int64\n",
       "start         object\n",
       "end           object\n",
       "dtype: object"
      ]
     },
     "execution_count": 6,
     "metadata": {},
     "output_type": "execute_result"
    }
   ],
   "source": [
    "schulde_data.dtypes"
   ]
  },
  {
   "cell_type": "code",
   "execution_count": 7,
   "id": "e1fc8804",
   "metadata": {},
   "outputs": [
    {
     "data": {
      "text/plain": [
       "(50, 47)"
      ]
     },
     "execution_count": 7,
     "metadata": {},
     "output_type": "execute_result"
    }
   ],
   "source": [
    "schulde_data.start.nunique(), schulde_data.end.nunique()"
   ]
  },
  {
   "cell_type": "code",
   "execution_count": 8,
   "id": "198484bd",
   "metadata": {},
   "outputs": [],
   "source": [
    "schulde_data[\"start_time\"] = schulde_data[\"start\"].apply(lambda x : datetime.strptime(x, '%Y-%m-%d %H:%M:%S'))\n",
    "schulde_data[\"end_time\"] = schulde_data[\"end\"].apply(lambda x : datetime.strptime(x, '%Y-%m-%d %H:%M:%S'))"
   ]
  },
  {
   "cell_type": "code",
   "execution_count": 9,
   "id": "ee0a50d3",
   "metadata": {},
   "outputs": [
    {
     "data": {
      "text/plain": [
       "0"
      ]
     },
     "execution_count": 9,
     "metadata": {},
     "output_type": "execute_result"
    }
   ],
   "source": [
    "len({})"
   ]
  },
  {
   "cell_type": "code",
   "execution_count": 10,
   "id": "fb8aadc3",
   "metadata": {},
   "outputs": [],
   "source": [
    "def find_alocate_sergent(sergent_list,ind,start_time,schulde_data):\n",
    "    if len(sergent_list) == 0:\n",
    "        return 0\n",
    "   \n",
    "    free_time = start_time\n",
    "    sergent_number  = np.max(list(sergent_list.keys())) + 1 \n",
    "    for k,v in enumerate(sergent_list):\n",
    "        dict_ind = np.max(v)\n",
    "        if free_time > schulde_data[\"end_time\"].loc[np.max(sergent_list[k])]:\n",
    "            sergent_number = k \n",
    "            free_time = schulde_data[\"end_time\"].loc[np.max(sergent_list[k])]\n",
    "    return sergent_number\n",
    "    "
   ]
  },
  {
   "cell_type": "code",
   "execution_count": 11,
   "id": "624164e6",
   "metadata": {
    "scrolled": true
   },
   "outputs": [],
   "source": [
    "sergent_list = {}\n",
    "for ind in range(len(schulde_data)):\n",
    "    start_time = schulde_data.start_time.iloc[ind]\n",
    "    sergent_num = find_alocate_sergent(sergent_list,ind,start_time,schulde_data)\n",
    "\n",
    "    if sergent_num not in sergent_list:\n",
    "        sergent_list[sergent_num] = []\n",
    "    sergent_list[sergent_num] += [ind]"
   ]
  },
  {
   "cell_type": "code",
   "execution_count": 12,
   "id": "18afc1b1",
   "metadata": {
    "scrolled": true
   },
   "outputs": [
    {
     "data": {
      "text/plain": [
       "{0: [0, 12, 20, 28, 37, 57, 65, 76, 100],\n",
       " 1: [1, 15, 27, 38, 46, 69, 96, 112],\n",
       " 2: [2, 16, 29, 42, 70, 79, 90],\n",
       " 3: [3, 17, 31, 49, 59, 73, 98, 108],\n",
       " 4: [4, 21, 32, 45, 71, 87, 109],\n",
       " 5: [5, 23, 39, 53, 60, 78, 88, 97],\n",
       " 6: [6, 30, 40, 47, 54, 72, 89, 101],\n",
       " 7: [7, 35, 55, 68, 80, 92, 102],\n",
       " 8: [8, 18, 33, 61, 84, 107],\n",
       " 9: [9, 19, 25, 43, 56, 74, 83, 104],\n",
       " 10: [10, 24, 48, 58, 66, 91, 99],\n",
       " 11: [11, 34, 44, 64, 85, 110],\n",
       " 12: [13, 22, 36, 50, 62, 77, 93, 105],\n",
       " 13: [14, 26, 41, 67, 82, 106],\n",
       " 14: [51, 63, 81, 94, 111],\n",
       " 15: [52, 75, 86, 103],\n",
       " 16: [95, 113]}"
      ]
     },
     "execution_count": 12,
     "metadata": {},
     "output_type": "execute_result"
    }
   ],
   "source": [
    "schulde_data['duration'] = schulde_data[\"end_time\"] - schulde_data[\"start_time\"]\n",
    "sergent_list"
   ]
  },
  {
   "cell_type": "code",
   "execution_count": 13,
   "id": "3038494a",
   "metadata": {},
   "outputs": [],
   "source": [
    "sergent_array = pd.DataFrame(columns=['sergent'],index = schulde_data.index)\n",
    "for k,v in  sergent_list.items():\n",
    "    sergent_array.loc[v] = k\n",
    "schulde_data['sergent'] = sergent_array['sergent']"
   ]
  },
  {
   "cell_type": "code",
   "execution_count": 14,
   "id": "776d6acd",
   "metadata": {},
   "outputs": [
    {
     "data": {
      "text/plain": [
       "Timedelta('0 days 00:45:00')"
      ]
     },
     "execution_count": 14,
     "metadata": {},
     "output_type": "execute_result"
    }
   ],
   "source": [
    "schulde_data.duration.iloc[0] + schulde_data.duration.iloc[1]"
   ]
  },
  {
   "cell_type": "code",
   "execution_count": 24,
   "id": "0991317b",
   "metadata": {},
   "outputs": [],
   "source": [
    "zero_time = schulde_data.duration.iloc[0] -schulde_data.duration.iloc[0]\n",
    "serget_hours = {}\n",
    "for sername, ser_data in schulde_data.groupby('sergent'):\n",
    "    time_sum = zero_time\n",
    "    for t in ser_data.duration.values:\n",
    "        time_sum += t\n",
    "    serget_hours[sername] = time_sum"
   ]
  },
  {
   "cell_type": "code",
   "execution_count": null,
   "id": "f81162a4",
   "metadata": {},
   "outputs": [],
   "source": [
    "# except number 16 all sergent are valid"
   ]
  },
  {
   "cell_type": "code",
   "execution_count": null,
   "id": "c0a1e3d5",
   "metadata": {},
   "outputs": [],
   "source": [
    "# we will move sergent from nubmer 8 "
   ]
  },
  {
   "cell_type": "code",
   "execution_count": null,
   "id": "9cde2849",
   "metadata": {},
   "outputs": [],
   "source": []
  },
  {
   "cell_type": "code",
   "execution_count": null,
   "id": "df9c28b3",
   "metadata": {},
   "outputs": [],
   "source": []
  },
  {
   "cell_type": "code",
   "execution_count": null,
   "id": "1ed1fde8",
   "metadata": {},
   "outputs": [],
   "source": []
  }
 ],
 "metadata": {
  "kernelspec": {
   "display_name": "Python 3 (ipykernel)",
   "language": "python",
   "name": "python3"
  },
  "language_info": {
   "codemirror_mode": {
    "name": "ipython",
    "version": 3
   },
   "file_extension": ".py",
   "mimetype": "text/x-python",
   "name": "python",
   "nbconvert_exporter": "python",
   "pygments_lexer": "ipython3",
   "version": "3.9.13"
  }
 },
 "nbformat": 4,
 "nbformat_minor": 5
}
